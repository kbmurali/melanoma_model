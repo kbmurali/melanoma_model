{
 "cells": [
  {
   "cell_type": "code",
   "execution_count": 1,
   "id": "120ead97-7983-469a-aaed-943cbc05d538",
   "metadata": {},
   "outputs": [],
   "source": [
    "import warnings\n",
    "\n",
    "warnings.simplefilter(\"ignore\")\n",
    "\n",
    "import torch\n",
    "import torch.nn as nn\n",
    "import torch.nn.functional as F\n",
    "from torch.utils.data import Dataset, DataLoader\n",
    "\n",
    "import torchvision\n",
    "from torchvision import transforms\n",
    "\n",
    "import numpy as np\n",
    "from tqdm.autonotebook import tqdm\n",
    "import pandas as pd\n",
    "\n",
    "import random\n",
    "import os\n",
    "\n",
    "import time\n",
    "\n",
    "import matplotlib.pyplot as plt\n",
    "import seaborn as sns\n",
    "\n",
    "from sklearn.metrics import accuracy_score"
   ]
  },
  {
   "cell_type": "code",
   "execution_count": 2,
   "id": "22034aea-8f3b-4653-b147-e914c775563b",
   "metadata": {},
   "outputs": [],
   "source": [
    "def set_seed(seed: int = 42) -> None:\n",
    "    np.random.seed(seed)\n",
    "    random.seed(seed)\n",
    "    torch.manual_seed(seed)\n",
    "    torch.cuda.manual_seed(seed)\n",
    "    # When running on the CuDNN backend, two further options must be set\n",
    "    torch.backends.cudnn.deterministic = True\n",
    "    torch.backends.cudnn.benchmark = False\n",
    "    # Set a fixed value for the hash seed\n",
    "    os.environ[\"PYTHONHASHSEED\"] = str(seed)\n",
    "    print(f\"Random seed set as {seed}\")\n",
    "    \n",
    "def moveTo( obj, device ):\n",
    "    if isinstance( obj, list ):\n",
    "        return [moveTo(x,device) for x in obj]\n",
    "    elif isinstance( obj, tuple ):\n",
    "        return tuple( moveTo( list(obj), device ) )\n",
    "    elif isinstance( obj, set ):\n",
    "        return set( moveTo( list(obj), device ) )\n",
    "    elif isinstance( obj, dict):\n",
    "        to_ret = dict()\n",
    "\n",
    "        for key, value in obj.items():\n",
    "            to_ret[ moveTo( key, device) ] = moveTo( value, device )\n",
    "\n",
    "        return to_ret\n",
    "    elif hasattr( obj, \"to\" ):\n",
    "        return obj.to( device )\n",
    "    else:\n",
    "        return obj\n",
    "\n",
    "def run_epoch( model, optimizer, data_loader, loss_func, device=\"cpu\", results=[], score_funcs={}, prefix=\" \", desc=None ):\n",
    "    running_loss = []\n",
    "    y_true = []\n",
    "    y_pred = []\n",
    "    start = time.time()\n",
    "\n",
    "    for inputs, labels in tqdm(data_loader, desc=desc, leave=False, disable=True ):\n",
    "        inputs = moveTo( inputs, device )\n",
    "        labels = moveTo( labels, device )\n",
    "\n",
    "        if model.training:\n",
    "            with torch.enable_grad():\n",
    "                optimizer.zero_grad()\n",
    "                y_hat = model( inputs )\n",
    "                loss = loss_func( y_hat, labels )\n",
    "                loss.backward()\n",
    "                optimizer.step()\n",
    "        else:\n",
    "            with torch.no_grad():\n",
    "                y_hat = model( inputs )\n",
    "                loss = loss_func( y_hat, labels )\n",
    "\n",
    "        running_loss.append( loss.item() )\n",
    "\n",
    "        if len( score_funcs ) > 0 and isinstance( labels, torch.Tensor ):\n",
    "            labels = labels.detach().cpu().numpy()\n",
    "            y_hat = y_hat.detach().cpu().numpy()\n",
    "\n",
    "            y_true.extend( labels.tolist() )\n",
    "            y_pred.extend( y_hat.tolist() )\n",
    "            \n",
    "    end = time.time()\n",
    "\n",
    "    y_pred = np.asarray(y_pred)\n",
    "    \n",
    "    if len(y_pred.shape) == 2 and y_pred.shape[1] > 1: #We have a classification problem, convert to labels\n",
    "        y_pred = np.argmax(y_pred, axis=1)\n",
    "    #Else, we assume we are working on a regression problem\n",
    "    \n",
    "    results[prefix + \" loss\"].append( np.mean(running_loss) )\n",
    "    \n",
    "    for name, score_func in score_funcs.items():\n",
    "        try:\n",
    "            results[prefix + \" \" + name].append( score_func(y_true, y_pred) )\n",
    "        except:\n",
    "            results[prefix + \" \" + name].append(float(\"NaN\"))\n",
    "            \n",
    "    return end-start\n",
    "\n",
    "def train_model( model,\n",
    "                 loss_func, \n",
    "                 train_loader, \n",
    "                 test_loader=None, \n",
    "                 score_funcs=None, \n",
    "                 epochs=50,\n",
    "                 lr=0.001,\n",
    "                 device='cpu' ):\n",
    "    results = {}\n",
    "\n",
    "    results[ \"epoch\" ] = []\n",
    "    results[ \"total time\" ] = []\n",
    "    results[ \"train loss\" ] = []\n",
    "\n",
    "    if test_loader is not None:\n",
    "        results[ \"test loss\" ] = []\n",
    "\n",
    "    for eval_score in score_funcs:\n",
    "        results[ \"train \" + eval_score ] = []\n",
    "        if test_loader is not None:\n",
    "             results[ \"test \" + eval_score ] = []\n",
    "\n",
    "    total_train_time = 0\n",
    "    \n",
    "    optimizer = torch.optim.SGD( model.parameters(), lr=lr )\n",
    "   \n",
    "    model.to(device)\n",
    "\n",
    "    for epoch in tqdm(range(epochs), desc=\"Epoch\"):\n",
    "        model.train()\n",
    "\n",
    "        total_train_time += run_epoch( model, optimizer, train_loader, loss_func, device, results, score_funcs, prefix=\"train\", desc=\"Training\" )\n",
    "\n",
    "        results[\"total time\"].append( total_train_time )\n",
    "        results[\"epoch\"].append( epoch )\n",
    "\n",
    "        if test_loader is not None:\n",
    "            model = model.eval()\n",
    "            run_epoch( model, optimizer, test_loader, loss_func, device, results, score_funcs, prefix=\"test\", desc=\"Testing\" )\n",
    "\n",
    "    return pd.DataFrame.from_dict( results )\n",
    "\n",
    "def pred(model, img):\n",
    "    with torch.no_grad():\n",
    "        w, h = img.shape\n",
    "        \n",
    "        if not isinstance(img, torch.Tensor):\n",
    "            img = torch.tensor(img)\n",
    "        \n",
    "        x = img.reshape(1,-1,w,h)\n",
    "        \n",
    "        logits = model(x)\n",
    "\n",
    "        print( logits )\n",
    "        \n",
    "        y_hat = F.softmax(logits, dim=1)\n",
    "\n",
    "        print( y_hat )\n",
    "    \n",
    "    return y_hat"
   ]
  },
  {
   "cell_type": "code",
   "execution_count": 3,
   "id": "a5c56aca-1ffe-4e2d-9c76-14d1e9c5ccff",
   "metadata": {},
   "outputs": [
    {
     "name": "stdout",
     "output_type": "stream",
     "text": [
      "Random seed set as 5482\n"
     ]
    }
   ],
   "source": [
    "set_seed( seed = 5482 )"
   ]
  },
  {
   "cell_type": "code",
   "execution_count": 4,
   "id": "f11cfd4b-104b-443e-8d76-4da74664fdb1",
   "metadata": {},
   "outputs": [],
   "source": [
    "mnist_data_train = torchvision.datasets.MNIST( \"./data\", train=True, download=True, transform=transforms.ToTensor() )\n",
    "\n",
    "mnist_data_test = torchvision.datasets.MNIST( \"./data\", train=False, download=True, transform=transforms.ToTensor() )"
   ]
  },
  {
   "cell_type": "code",
   "execution_count": 5,
   "id": "9fe65abc-1243-4d3b-9bc9-f4e31f48645c",
   "metadata": {},
   "outputs": [
    {
     "data": {
      "text/plain": [
       "torch.Tensor"
      ]
     },
     "execution_count": 5,
     "metadata": {},
     "output_type": "execute_result"
    }
   ],
   "source": [
    "x_example, y_example = mnist_data_train[0]\n",
    "\n",
    "type( x_example )"
   ]
  },
  {
   "cell_type": "code",
   "execution_count": 6,
   "id": "2e03f8a8-9178-47a1-ad68-40be86cda12d",
   "metadata": {},
   "outputs": [
    {
     "data": {
      "text/plain": [
       "torch.Size([1, 28, 28])"
      ]
     },
     "execution_count": 6,
     "metadata": {},
     "output_type": "execute_result"
    }
   ],
   "source": [
    "x_example.shape"
   ]
  },
  {
   "cell_type": "code",
   "execution_count": 7,
   "id": "edd0a44b-6ebd-4773-8d90-4cdeb062963e",
   "metadata": {},
   "outputs": [
    {
     "data": {
      "text/plain": [
       "<matplotlib.image.AxesImage at 0xfffee1bd4e80>"
      ]
     },
     "execution_count": 7,
     "metadata": {},
     "output_type": "execute_result"
    },
    {
     "data": {
      "image/png": "[encoded data removed]",
      "text/plain": [
       "<Figure size 640x480 with 1 Axes>"
      ]
     },
     "metadata": {},
     "output_type": "display_data"
    }
   ],
   "source": [
    "plt.imshow(x_example[0,:], cmap='gray' )"
   ]
  },
  {
   "cell_type": "code",
   "execution_count": 8,
   "id": "0687a06a-d2b9-46bc-9e94-30141bb088e9",
   "metadata": {},
   "outputs": [
    {
     "name": "stdout",
     "output_type": "stream",
     "text": [
      "torch.Size([3, 28, 28])\n"
     ]
    },
    {
     "data": {
      "text/plain": [
       "<matplotlib.image.AxesImage at 0xfffee1b33370>"
      ]
     },
     "execution_count": 8,
     "metadata": {},
     "output_type": "execute_result"
    },
    {
     "data": {
      "image/png": "[encoded data removed]",
      "text/plain": [
       "<Figure size 640x480 with 1 Axes>"
      ]
     },
     "metadata": {},
     "output_type": "display_data"
    }
   ],
   "source": [
    "x_as_color = torch.stack( [x_example[0,:], x_example[0,:], x_example[0,:]], dim=0 )\n",
    "\n",
    "print(x_as_color.shape)\n",
    "\n",
    "#Red Channel Only\n",
    "x_as_color[1,:] = 0 \n",
    "x_as_color[2,:] = 0\n",
    "\n",
    "plt.imshow(x_as_color.permute(1,2,0))"
   ]
  },
  {
   "cell_type": "code",
   "execution_count": 9,
   "id": "59ef53f2-fb7b-4840-92d8-0e8f91c4a03a",
   "metadata": {},
   "outputs": [
    {
     "name": "stdout",
     "output_type": "stream",
     "text": [
      "cuda\n"
     ]
    }
   ],
   "source": [
    "device = torch.device ( \"cuda\" if torch.cuda.is_available() else \"cpu\" )\n",
    "\n",
    "print( device )"
   ]
  },
  {
   "cell_type": "code",
   "execution_count": 10,
   "id": "495345ae-7b9a-4cef-b8c1-7ede71ef89d1",
   "metadata": {},
   "outputs": [],
   "source": [
    "batch_size = 32\n",
    "\n",
    "mnist_train_loader = DataLoader(mnist_data_train, batch_size=batch_size, shuffle=True)\n",
    "mnist_test_loader = DataLoader(mnist_data_test, batch_size=batch_size )"
   ]
  },
  {
   "cell_type": "code",
   "execution_count": 11,
   "id": "ca369416-2c21-4f88-88e8-dc9a72ebb64b",
   "metadata": {},
   "outputs": [],
   "source": [
    "input_channels=1\n",
    "classes = 10\n",
    "number_of_filters = 16\n",
    "kernel_size = 3\n",
    "image_dim = 28*28\n",
    "\n",
    "padding = kernel_size//2\n",
    "pool_size = 2"
   ]
  },
  {
   "cell_type": "code",
   "execution_count": 12,
   "id": "0ed1e4d7-137f-490f-a9f1-5a39861eb562",
   "metadata": {},
   "outputs": [],
   "source": [
    "model_cnn = nn.Sequential(\n",
    "                                nn.Conv2d( input_channels, number_of_filters, kernel_size, padding=padding ), # 1x28x28 => 16x28x28\n",
    "                                nn.BatchNorm2d( number_of_filters ), #16x28x28 => 16x28x28\n",
    "                                nn.ReLU(inplace=True), #16x28x28 => 16x28x28\n",
    "                                nn.Conv2d(number_of_filters, number_of_filters, kernel_size, padding=padding ), # 16x28x28 => 16x28x28\n",
    "                                nn.BatchNorm2d( number_of_filters ), #16x28x28 => 16x28x28\n",
    "                                nn.ReLU(inplace=True), #16x28x28 => 16x28x28\n",
    "                                nn.Conv2d(number_of_filters, number_of_filters, kernel_size, padding=padding ), # 16x28x28 => 16x28x28\n",
    "                                nn.BatchNorm2d( number_of_filters ), #16x28x28 => 16x28x28\n",
    "                                nn.ReLU(inplace=True), #16x28x28 => 16x28x28\n",
    "                                nn.MaxPool2d(pool_size), #16x28x28 => 16x14x14\n",
    "    \n",
    "                                nn.Flatten(), # 16x14x14 => 3136\n",
    "                                nn.Linear( 3136, classes) # 3136 => 10\n",
    "                        )"
   ]
  },
  {
   "cell_type": "code",
   "execution_count": 13,
   "id": "e680f42f-3490-4336-bd7e-25a3556d2b11",
   "metadata": {},
   "outputs": [],
   "source": [
    "loss_func = nn.CrossEntropyLoss()\n",
    "\n",
    "score_funcs={ \n",
    "                'accuracy': accuracy_score\n",
    "            }\n",
    "\n",
    "epochs = 30"
   ]
  },
  {
   "cell_type": "code",
   "execution_count": 14,
   "id": "0b9fd632-cf6e-4e8f-81ca-9e24f2856b36",
   "metadata": {},
   "outputs": [
    {
     "data": {
      "application/vnd.jupyter.widget-view+json": {
       "model_id": "d4607dd184344da99688128d7ffec2ee",
       "version_major": 2,
       "version_minor": 0
      },
      "text/plain": [
       "Epoch:   0%|          | 0/30 [00:00<?, ?it/s]"
      ]
     },
     "metadata": {},
     "output_type": "display_data"
    }
   ],
   "source": [
    "cnn_results = train_model( \n",
    "                            model_cnn,\n",
    "                            loss_func, \n",
    "                            mnist_train_loader, \n",
    "                            test_loader=mnist_test_loader, \n",
    "                            score_funcs=score_funcs, \n",
    "                            device=device, \n",
    "                            epochs=epochs \n",
    "                        )"
   ]
  },
  {
   "cell_type": "code",
   "execution_count": 15,
   "id": "0f08beb5-bce9-4fc6-bca1-62ea54bb6db7",
   "metadata": {},
   "outputs": [
    {
     "data": {
      "text/html": [
       "<div>\n",
       "<style scoped>\n",
       "    .dataframe tbody tr th:only-of-type {\n",
       "        vertical-align: middle;\n",
       "    }\n",
       "\n",
       "    .dataframe tbody tr th {\n",
       "        vertical-align: top;\n",
       "    }\n",
       "\n",
       "    .dataframe thead th {\n",
       "        text-align: right;\n",
       "    }\n",
       "</style>\n",
       "<table border=\"1\" class=\"dataframe\">\n",
       "  <thead>\n",
       "    <tr style=\"text-align: right;\">\n",
       "      <th></th>\n",
       "      <th>epoch</th>\n",
       "      <th>total time</th>\n",
       "      <th>train loss</th>\n",
       "      <th>test loss</th>\n",
       "      <th>train accuracy</th>\n",
       "      <th>test accuracy</th>\n",
       "    </tr>\n",
       "  </thead>\n",
       "  <tbody>\n",
       "    <tr>\n",
       "      <th>0</th>\n",
       "      <td>0</td>\n",
       "      <td>39.777861</td>\n",
       "      <td>0.349956</td>\n",
       "      <td>0.152517</td>\n",
       "      <td>0.913967</td>\n",
       "      <td>0.9610</td>\n",
       "    </tr>\n",
       "    <tr>\n",
       "      <th>1</th>\n",
       "      <td>1</td>\n",
       "      <td>74.931519</td>\n",
       "      <td>0.138180</td>\n",
       "      <td>0.102043</td>\n",
       "      <td>0.962967</td>\n",
       "      <td>0.9734</td>\n",
       "    </tr>\n",
       "    <tr>\n",
       "      <th>2</th>\n",
       "      <td>2</td>\n",
       "      <td>110.313103</td>\n",
       "      <td>0.104113</td>\n",
       "      <td>0.081907</td>\n",
       "      <td>0.971650</td>\n",
       "      <td>0.9767</td>\n",
       "    </tr>\n",
       "    <tr>\n",
       "      <th>3</th>\n",
       "      <td>3</td>\n",
       "      <td>145.211506</td>\n",
       "      <td>0.087107</td>\n",
       "      <td>0.071588</td>\n",
       "      <td>0.976000</td>\n",
       "      <td>0.9796</td>\n",
       "    </tr>\n",
       "    <tr>\n",
       "      <th>4</th>\n",
       "      <td>4</td>\n",
       "      <td>180.169691</td>\n",
       "      <td>0.075964</td>\n",
       "      <td>0.062807</td>\n",
       "      <td>0.979183</td>\n",
       "      <td>0.9815</td>\n",
       "    </tr>\n",
       "  </tbody>\n",
       "</table>\n",
       "</div>"
      ],
      "text/plain": [
       "   epoch  total time  train loss  test loss  train accuracy  test accuracy\n",
       "0      0   39.777861    0.349956   0.152517        0.913967         0.9610\n",
       "1      1   74.931519    0.138180   0.102043        0.962967         0.9734\n",
       "2      2  110.313103    0.104113   0.081907        0.971650         0.9767\n",
       "3      3  145.211506    0.087107   0.071588        0.976000         0.9796\n",
       "4      4  180.169691    0.075964   0.062807        0.979183         0.9815"
      ]
     },
     "execution_count": 15,
     "metadata": {},
     "output_type": "execute_result"
    }
   ],
   "source": [
    "cnn_results.head()"
   ]
  },
  {
   "cell_type": "code",
   "execution_count": 16,
   "id": "e4a4d5d6-b69d-4d27-a88c-e2ecae26dfca",
   "metadata": {},
   "outputs": [
    {
     "name": "stdout",
     "output_type": "stream",
     "text": [
      "Test Accuracy: 0.9889\n"
     ]
    }
   ],
   "source": [
    "print( \"Test Accuracy: {}\".format( cnn_results[ 'test accuracy' ].iloc[-1] ) )"
   ]
  },
  {
   "cell_type": "code",
   "execution_count": 17,
   "id": "8b81dd5e-490a-4f2f-b104-476b75ee4445",
   "metadata": {},
   "outputs": [
    {
     "data": {
      "text/plain": [
       "<AxesSubplot: xlabel='epoch', ylabel='test accuracy'>"
      ]
     },
     "execution_count": 17,
     "metadata": {},
     "output_type": "execute_result"
    },
    {
     "data": {
      "image/png": "[encoded data removed]",
      "text/plain": [
       "<Figure size 640x480 with 1 Axes>"
      ]
     },
     "metadata": {},
     "output_type": "display_data"
    }
   ],
   "source": [
    "sns.lineplot( x='epoch', y='test accuracy', data=cnn_results, label=\"CNN Model\" )"
   ]
  },
  {
   "cell_type": "code",
   "execution_count": 18,
   "id": "50832315-61b2-4770-b0a5-b798cc6ca3a4",
   "metadata": {},
   "outputs": [
    {
     "data": {
      "text/plain": [
       "<AxesSubplot: xlabel='epoch', ylabel='train loss'>"
      ]
     },
     "execution_count": 18,
     "metadata": {},
     "output_type": "execute_result"
    },
    {
     "data": {
      "image/png": "[encoded data removed]",
      "text/plain": [
       "<Figure size 640x480 with 1 Axes>"
      ]
     },
     "metadata": {},
     "output_type": "display_data"
    }
   ],
   "source": [
    "sns.lineplot( x='epoch', y='train loss', data=cnn_results, label=\"Train Loss\" )\n",
    "sns.lineplot( x='epoch', y='test loss', data=cnn_results, label=\"Test Loss\" )"
   ]
  },
  {
   "cell_type": "code",
   "execution_count": null,
   "id": "d91be4ae-3da4-440d-a35d-e369f4ca484f",
   "metadata": {},
   "outputs": [],
   "source": []
  }
 ],
 "metadata": {
  "kernelspec": {
   "display_name": "Python 3 (ipykernel)",
   "language": "python",
   "name": "python3"
  },
  "language_info": {
   "codemirror_mode": {
    "name": "ipython",
    "version": 3
   },
   "file_extension": ".py",
   "mimetype": "text/x-python",
   "name": "python",
   "nbconvert_exporter": "python",
   "pygments_lexer": "ipython3",
   "version": "3.8.10"
  }
 },
 "nbformat": 4,
 "nbformat_minor": 5
}
